{
  "nbformat": 4,
  "nbformat_minor": 0,
  "metadata": {
    "colab": {
      "name": "IR_A2_Q2.ipynb",
      "provenance": [],
      "collapsed_sections": []
    },
    "kernelspec": {
      "name": "python3",
      "display_name": "Python 3"
    },
    "language_info": {
      "name": "python"
    }
  },
  "cells": [
    {
      "cell_type": "code",
      "execution_count": null,
      "metadata": {
        "id": "cbNk1GPq8HIw"
      },
      "outputs": [],
      "source": [
        "import pandas as pd\n",
        "import numpy as np\n",
        "import math\n",
        "import matplotlib.pyplot as plt\n",
        "import re"
      ]
    },
    {
      "cell_type": "code",
      "source": [
        "from google.colab import drive\n",
        "drive.mount('/content/drive')"
      ],
      "metadata": {
        "colab": {
          "base_uri": "https://localhost:8080/"
        },
        "id": "i3Mao0459KZ9",
        "outputId": "10f6e699-0447-4e76-d7b5-d33516452854"
      },
      "execution_count": null,
      "outputs": [
        {
          "output_type": "stream",
          "name": "stdout",
          "text": [
            "Mounted at /content/drive\n"
          ]
        }
      ]
    },
    {
      "cell_type": "code",
      "source": [
        "#reading data\n",
        "data = pd.read_csv('/content/drive/MyDrive/IR-assignment-2-data.txt',sep=' ', header=None)"
      ],
      "metadata": {
        "id": "8hdgSVg49Je7"
      },
      "execution_count": null,
      "outputs": []
    },
    {
      "cell_type": "code",
      "source": [
        "#taking rows with qid=4 only\n",
        "data = data[data[1] == \"qid:4\"] "
      ],
      "metadata": {
        "id": "DU11k2Bh9oWQ"
      },
      "execution_count": null,
      "outputs": []
    },
    {
      "cell_type": "markdown",
      "source": [
        "# PART 1 "
      ],
      "metadata": {
        "id": "QSxvlp-_k6WJ"
      }
    },
    {
      "cell_type": "markdown",
      "source": [
        "Rearranging Query-URL pairs in order of max DCG"
      ],
      "metadata": {
        "id": "GAxPl982lTld"
      }
    },
    {
      "cell_type": "code",
      "source": [
        "#putting all rows in sorted order in opt_data\n",
        "opt_data = data[[0,1]].copy()\n",
        "opt_data = opt_data.sort_values([0],ascending=False)\n",
        "opt_data = opt_data.reset_index(drop=True)\n",
        "\n",
        "#putting first 50 rows in sorted order in opt_data\n",
        "opt_data50 = data[[0,1]].head(50)\n",
        "opt_data50 = opt_data50.sort_values([0],ascending=False)\n",
        "opt_data50 = opt_data50.reset_index(drop=True)\n"
      ],
      "metadata": {
        "id": "Q4btnhaglTDe"
      },
      "execution_count": null,
      "outputs": []
    },
    {
      "cell_type": "markdown",
      "source": [
        "Number of files that can be made "
      ],
      "metadata": {
        "id": "GtGGBMtK47HO"
      }
    },
    {
      "cell_type": "code",
      "source": [
        "unique_values = []\n",
        "num = 1\n",
        "length = len(opt_data)\n",
        "\n",
        "#putting all different relevance scores in a list :unique_values\n",
        "for i in range(length):\n",
        "  if opt_data.iloc[i][0] not in unique_values:\n",
        "    unique_values.append(opt_data.iloc[i][0])\n",
        "\n",
        "value_count = [0]*(len(unique_values))\n",
        "print\n",
        "#counting occurences of different relevance scores\n",
        "for i in range(length):\n",
        "  value_count[opt_data.iloc[i][0]] += 1\n",
        "\n",
        "#calculating how much different arrangements we can make with relevance scores by keeping them in sorted order itself\n",
        "for i in range(len(value_count)): \n",
        "  num = num*math.factorial(value_count[i])\n",
        "\n",
        "print(num)"
      ],
      "metadata": {
        "colab": {
          "base_uri": "https://localhost:8080/"
        },
        "id": "qX9BpyfNAPu3",
        "outputId": "9c7750e2-575e-4fcf-859d-ea4f4fa4e2a6"
      },
      "execution_count": null,
      "outputs": [
        {
          "output_type": "stream",
          "name": "stdout",
          "text": [
            "[59, 26, 17, 1]\n",
            "19893497375938370599826047614905329896936840170566570588205180312704857992695193482412686565431050240000000000000000000000\n"
          ]
        }
      ]
    },
    {
      "cell_type": "markdown",
      "source": [
        "# Part 2 : Compute NDCG"
      ],
      "metadata": {
        "id": "MnWX5m3w7eeM"
      }
    },
    {
      "cell_type": "markdown",
      "source": [
        "Computing IDCG"
      ],
      "metadata": {
        "id": "Sqrfclk674Zm"
      }
    },
    {
      "cell_type": "code",
      "source": [
        "#function to calculate ndcg \n",
        "# takes 2 parameters : \n",
        "  # 1. d = sorted data frame\n",
        "  # 2. dl = number of rows in sorted data frame\n",
        "  \n",
        "def ndcg(d ,  dl):\n",
        "  idcg = 0\n",
        "  dcg = 0\n",
        "  for i in range(dl):\n",
        "    if i is 0 :\n",
        "      idcg += d.iloc[i][0]\n",
        "      dcg += data.iloc[i][0]\n",
        "    else:\n",
        "      idcg += d.iloc[i][0]/math.log(i+1,2)\n",
        "      dcg += data.iloc[i][0]/math.log(i+1,2)\n",
        "  return dcg/idcg "
      ],
      "metadata": {
        "id": "zkbusEznBinO"
      },
      "execution_count": null,
      "outputs": []
    },
    {
      "cell_type": "markdown",
      "source": [
        "At 50 "
      ],
      "metadata": {
        "id": "M-yI7530Qz_b"
      }
    },
    {
      "cell_type": "code",
      "source": [
        "print(ndcg(opt_data50, 50))"
      ],
      "metadata": {
        "colab": {
          "base_uri": "https://localhost:8080/"
        },
        "id": "kYVFJnEHPrDs",
        "outputId": "d9c06e72-2db9-4148-d42c-c93f1eec35bd"
      },
      "execution_count": null,
      "outputs": [
        {
          "output_type": "stream",
          "name": "stdout",
          "text": [
            "0.5253808413557646\n"
          ]
        }
      ]
    },
    {
      "cell_type": "markdown",
      "source": [
        "For the whole dataset"
      ],
      "metadata": {
        "id": "oc35sTRgQ7Kq"
      }
    },
    {
      "cell_type": "code",
      "source": [
        "print(ndcg(opt_data,length))"
      ],
      "metadata": {
        "colab": {
          "base_uri": "https://localhost:8080/"
        },
        "id": "NvTWwHyNQ_Od",
        "outputId": "4a02a274-043b-4b0a-f14e-049aed1b947a"
      },
      "execution_count": null,
      "outputs": [
        {
          "output_type": "stream",
          "name": "stdout",
          "text": [
            "0.5979226516897831\n"
          ]
        }
      ]
    },
    {
      "cell_type": "markdown",
      "source": [
        "# Part 3 : Precision - Recall Curve\n"
      ],
      "metadata": {
        "id": "AMIJaKV9S4f3"
      }
    },
    {
      "cell_type": "code",
      "source": [
        "new_data = pd.DataFrame()\n",
        "temp = data[76].str.split(':', expand=True)\n",
        "new_data[0] = data[0].copy()\n",
        "new_data[1] = temp[1].copy()\n",
        "new_data[[1]] = new_data[[1]].apply(pd.to_numeric)\n",
        "new_data[0]= new_data[0].astype(int)\n",
        "new_data = new_data.sort_values([1],ascending=False)\n",
        "new_data = new_data.reset_index(drop=True)"
      ],
      "metadata": {
        "id": "8DWRc_UOTFak"
      },
      "execution_count": null,
      "outputs": []
    },
    {
      "cell_type": "code",
      "source": [
        "precision = []\n",
        "recall = []\n",
        "total_rel = 0\n",
        "rel_count = 0\n",
        "\n",
        "for i in range(len(new_data)):\n",
        "   if new_data.iloc[i][0].astype(int) > 0:\n",
        "     total_rel += 1\n",
        "\n",
        "for i in range(len(new_data)):\n",
        "    if new_data.iloc[i][0].astype(int) > 0:\n",
        "        rel_count += 1\n",
        "    precision.append(rel_count/(i+1))\n",
        "    recall.append(rel_count/total_rel)"
      ],
      "metadata": {
        "id": "W4E5X-PmVjrD"
      },
      "execution_count": null,
      "outputs": []
    },
    {
      "cell_type": "code",
      "source": [
        "plt.plot(recall, precision)\n",
        "plt.title(\"Precision-Recall Curve\")\n",
        "plt.xlabel(\"Recall\")\n",
        "plt.ylabel(\"Precision\")\n"
      ],
      "metadata": {
        "colab": {
          "base_uri": "https://localhost:8080/",
          "height": 312
        },
        "id": "tu8wMSejZ-Zq",
        "outputId": "96c106cc-8089-4568-a4d3-8bf1b48874c4"
      },
      "execution_count": null,
      "outputs": [
        {
          "output_type": "execute_result",
          "data": {
            "text/plain": [
              "Text(0, 0.5, 'Precision')"
            ]
          },
          "metadata": {},
          "execution_count": 14
        },
        {
          "output_type": "display_data",
          "data": {
            "text/plain": [
              "<Figure size 432x288 with 1 Axes>"
            ],
            "image/png": "[encoded data removed]"
          },
          "metadata": {
            "needs_background": "light"
          }
        }
      ]
    }
  ]
}